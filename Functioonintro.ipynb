{
 "cells": [
  {
   "cell_type": "code",
   "execution_count": 1,
   "id": "c4d4f53f-3ce8-43d8-baa2-89ba65ae5b5c",
   "metadata": {},
   "outputs": [],
   "source": [
    "def test():\n",
    "    pass"
   ]
  },
  {
   "cell_type": "code",
   "execution_count": 2,
   "id": "15cc93e0-ceee-4197-82f3-b06d5329de98",
   "metadata": {},
   "outputs": [],
   "source": [
    "def fn1():\n",
    "    print(\"First trying function\")"
   ]
  },
  {
   "cell_type": "code",
   "execution_count": 4,
   "id": "fec9f8f9-341f-43ce-b8db-0216692c5e8c",
   "metadata": {},
   "outputs": [
    {
     "name": "stdout",
     "output_type": "stream",
     "text": [
      "First trying function\n"
     ]
    }
   ],
   "source": [
    "fn1()"
   ]
  },
  {
   "cell_type": "code",
   "execution_count": 5,
   "id": "c5f38af0-6e7f-4bcc-8fc0-0ddb053b527e",
   "metadata": {},
   "outputs": [
    {
     "name": "stdout",
     "output_type": "stream",
     "text": [
      "First trying function\n"
     ]
    },
    {
     "data": {
      "text/plain": [
       "NoneType"
      ]
     },
     "execution_count": 5,
     "metadata": {},
     "output_type": "execute_result"
    }
   ],
   "source": [
    "type(fn1())"
   ]
  },
  {
   "cell_type": "code",
   "execution_count": 6,
   "id": "86b9031d-c573-4b29-85d8-623e96a628a8",
   "metadata": {},
   "outputs": [
    {
     "name": "stdout",
     "output_type": "stream",
     "text": [
      "First trying function\n"
     ]
    },
    {
     "ename": "TypeError",
     "evalue": "unsupported operand type(s) for +: 'NoneType' and 'str'",
     "output_type": "error",
     "traceback": [
      "\u001b[0;31m---------------------------------------------------------------------------\u001b[0m",
      "\u001b[0;31mTypeError\u001b[0m                                 Traceback (most recent call last)",
      "Cell \u001b[0;32mIn[6], line 1\u001b[0m\n\u001b[0;32m----> 1\u001b[0m \u001b[43mfn1\u001b[49m\u001b[43m(\u001b[49m\u001b[43m)\u001b[49m\u001b[43m \u001b[49m\u001b[38;5;241;43m+\u001b[39;49m\u001b[43m \u001b[49m\u001b[38;5;124;43m\"\u001b[39;49m\u001b[38;5;124;43mTridibesh\u001b[39;49m\u001b[38;5;124;43m\"\u001b[39;49m\n",
      "\u001b[0;31mTypeError\u001b[0m: unsupported operand type(s) for +: 'NoneType' and 'str'"
     ]
    }
   ],
   "source": [
    "fn1() + \"Tridibesh\""
   ]
  },
  {
   "cell_type": "code",
   "execution_count": 13,
   "id": "905ce54d-257e-4c1d-964c-ac93cd7d9cf9",
   "metadata": {},
   "outputs": [
    {
     "data": {
      "text/plain": [
       "'This is defference between print and return'"
      ]
     },
     "execution_count": 13,
     "metadata": {},
     "output_type": "execute_result"
    }
   ],
   "source": [
    "def fn2():\n",
    "    return\"This is defference between print and return\"\n",
    "fn2()\n"
   ]
  },
  {
   "cell_type": "code",
   "execution_count": 15,
   "id": "2e1ab42c-f301-4579-bcff-667c8693b52b",
   "metadata": {},
   "outputs": [
    {
     "data": {
      "text/plain": [
       "'This is defference between print and return Goopal'"
      ]
     },
     "execution_count": 15,
     "metadata": {},
     "output_type": "execute_result"
    }
   ],
   "source": [
    "fn2() + \" Goopal\""
   ]
  },
  {
   "cell_type": "code",
   "execution_count": 21,
   "id": "0663f98a-c855-4a15-9744-d8a2e128ecc3",
   "metadata": {},
   "outputs": [
    {
     "name": "stdout",
     "output_type": "stream",
     "text": [
      "g4\n"
     ]
    },
    {
     "data": {
      "text/plain": [
       "10"
      ]
     },
     "execution_count": 21,
     "metadata": {},
     "output_type": "execute_result"
    }
   ],
   "source": [
    "def sumfn(a,b):\n",
    "        return a+b\n",
    "    \n",
    "print(sumfn(\"g\",str(4)))\n",
    "sumfn(2,8)"
   ]
  },
  {
   "cell_type": "code",
   "execution_count": 23,
   "id": "0554aa93-ba97-4e71-a7a5-db491af3ed96",
   "metadata": {},
   "outputs": [],
   "source": [
    "def fn4():\n",
    "    return 2,4.5,5+2j,\"Gopal\",True,[2,3,5],(3,5,\"sastri\"),{1,3,4,5,6},{\"key\":9,4:\"Hi!\"}"
   ]
  },
  {
   "cell_type": "code",
   "execution_count": 25,
   "id": "45dd4845-4306-4aea-8877-ace3c3213f85",
   "metadata": {},
   "outputs": [],
   "source": [
    "a,b,c,d,e,f,g,h,i = fn4()"
   ]
  },
  {
   "cell_type": "code",
   "execution_count": 30,
   "id": "f851efa2-67f0-4e55-800f-4cb3eaac849f",
   "metadata": {},
   "outputs": [
    {
     "name": "stdout",
     "output_type": "stream",
     "text": [
      "2\n",
      "4.5\n",
      "(5+2j)\n",
      "Gopal\n",
      "True\n",
      "[2, 3, 5]\n",
      "(3, 5, 'sastri')\n",
      "{1, 3, 4, 5, 6}\n",
      "{'key': 9, 4: 'Hi!'}\n",
      "Hi!\n"
     ]
    }
   ],
   "source": [
    "print(a)\n",
    "print(b)\n",
    "print(c)\n",
    "print(d)\n",
    "print(e)\n",
    "print(f)\n",
    "print(g)\n",
    "print(h)\n",
    "print(i)\n",
    "print(i[4])"
   ]
  },
  {
   "cell_type": "code",
   "execution_count": 31,
   "id": "2308e69f-57a7-4507-b1d1-23e93dde54f5",
   "metadata": {},
   "outputs": [],
   "source": [
    "def devide(a,b):\n",
    "    return a/b,a%b"
   ]
  },
  {
   "cell_type": "code",
   "execution_count": 33,
   "id": "c3e4eeca-1808-413a-b312-f7127cf32cc5",
   "metadata": {},
   "outputs": [],
   "source": [
    "quotient,remainder = devide(480,360)"
   ]
  },
  {
   "cell_type": "code",
   "execution_count": 34,
   "id": "961b6b38-f962-46f7-b37d-9bffa588f981",
   "metadata": {},
   "outputs": [
    {
     "name": "stdout",
     "output_type": "stream",
     "text": [
      "1.3333333333333333\n",
      "120\n"
     ]
    }
   ],
   "source": [
    "print(quotient)\n",
    "print(remainder)"
   ]
  },
  {
   "cell_type": "code",
   "execution_count": 44,
   "id": "24a3d3ee-63f4-4673-b094-8e4471437d9b",
   "metadata": {},
   "outputs": [
    {
     "name": "stdout",
     "output_type": "stream",
     "text": [
      "[3, 4, 6, 7]\n",
      "['Gopal', [4, 5, 6, 7]]\n"
     ]
    }
   ],
   "source": [
    "l = [3,4,6,7,\"Gopal\",[4,5,6,7]]\n",
    "def findnum(a):\n",
    "    temp = []\n",
    "    temp2 =[]\n",
    "    for i in a:\n",
    "        if type(i) == int :\n",
    "            temp.append(i)\n",
    "        else :\n",
    "            temp2.append(i)\n",
    "    \n",
    "    return temp,temp2\n",
    "\n",
    "l_int , l_str = findnum(l)\n",
    "print(l_int)\n",
    "print(l_str)"
   ]
  },
  {
   "cell_type": "code",
   "execution_count": 48,
   "id": "607e76b4-70c4-414c-97c3-ab939748d76a",
   "metadata": {},
   "outputs": [
    {
     "data": {
      "text/plain": [
       "['4', '5', '6', 'g', 'o', 'p', 'a', 'l']"
      ]
     },
     "execution_count": 48,
     "metadata": {},
     "output_type": "execute_result"
    }
   ],
   "source": [
    "l_int , l_str = findnum(l)\n",
    "s = \"456gopal\"\n",
    "list(s)"
   ]
  },
  {
   "cell_type": "code",
   "execution_count": 47,
   "id": "05fcf452-40a8-4512-b654-8c5c28aad229",
   "metadata": {},
   "outputs": [
    {
     "name": "stdout",
     "output_type": "stream",
     "text": [
      "[3, 4, 6, 7]\n",
      "['Gopal', [4, 5, 6, 7]]\n"
     ]
    },
    {
     "data": {
      "text/plain": [
       "[1, 4, 5, 8, 9, 0]"
      ]
     },
     "execution_count": 47,
     "metadata": {},
     "output_type": "execute_result"
    }
   ],
   "source": [
    "print(l_int)\n",
    "print(l_str)\n",
    "l1 = [1,4,5]\n",
    "l2 = [8,9,0]\n",
    "l1 + l2"
   ]
  },
  {
   "cell_type": "code",
   "execution_count": 52,
   "id": "7dc5494c-e155-4c23-b192-a68a4b0fa8a6",
   "metadata": {},
   "outputs": [
    {
     "data": {
      "text/plain": [
       "[3, 4, 6, 7, 4, 5, 6, 7]"
      ]
     },
     "execution_count": 52,
     "metadata": {},
     "output_type": "execute_result"
    }
   ],
   "source": [
    "#use docstring in function so that any user can understand what actually your do\n",
    "def findnum(a):\n",
    "    \"\"\"This fn find numbers in a list\"\"\"\n",
    "    l =[]\n",
    "    for i in a :\n",
    "        if type(i) == list:\n",
    "            l = l+ findnum(i)\n",
    "        elif type(i) == int:\n",
    "            l.append(i)\n",
    "        else:\n",
    "            continue\n",
    "    return l\n",
    "\n",
    "l =[3,4,6,7,\"Gopal\",[4,5,6,7]]\n",
    "\n",
    "findnum(l)\n",
    "            "
   ]
  },
  {
   "cell_type": "code",
   "execution_count": 53,
   "id": "8d84718a-3703-40f7-9afd-e2b10953f1e4",
   "metadata": {},
   "outputs": [
    {
     "data": {
      "text/plain": [
       "(2, 3, 4, 5, 5)"
      ]
     },
     "execution_count": 53,
     "metadata": {},
     "output_type": "execute_result"
    }
   ],
   "source": [
    "# for random number of input we use '*' in argument, this random number of inputs are stored in a tuple\n",
    "def random(*arg):\n",
    "    return arg\n",
    "random(2,3,4,5,5)"
   ]
  },
  {
   "cell_type": "code",
   "execution_count": 58,
   "id": "4a804330-e3f5-4ed3-b2e4-f7ab5fbcdcaf",
   "metadata": {},
   "outputs": [
    {
     "data": {
      "text/plain": [
       "(1, 2, 4, 5, 6, 'gopal')"
      ]
     },
     "execution_count": 58,
     "metadata": {},
     "output_type": "execute_result"
    }
   ],
   "source": [
    "def rand1(*gopal):\n",
    "    return gopal\n",
    "rand1(1,2,4,5,6,\"gopal\")"
   ]
  },
  {
   "cell_type": "code",
   "execution_count": 59,
   "id": "411491dc-526b-430e-ade1-32b3865bc92c",
   "metadata": {},
   "outputs": [
    {
     "data": {
      "text/plain": [
       "tuple"
      ]
     },
     "execution_count": 59,
     "metadata": {},
     "output_type": "execute_result"
    }
   ],
   "source": [
    "type(rand1(1,2,4,5,6,\"gopal\"))"
   ]
  },
  {
   "cell_type": "code",
   "execution_count": 63,
   "id": "6f3177ed-da09-407d-aafc-d1e8fd8c0c0a",
   "metadata": {},
   "outputs": [
    {
     "data": {
      "text/plain": [
       "[2, 4, 6, 8]"
      ]
     },
     "execution_count": 63,
     "metadata": {},
     "output_type": "execute_result"
    }
   ],
   "source": [
    "#default variable with random input function as argumernt\n",
    "def rand2(*arg,a = 2):\n",
    "    \"\"\"find the numbers divisible by input a\"\"\"\n",
    "    l= []\n",
    "    for i in arg:\n",
    "        if i % a == 0:\n",
    "            l.append(i)\n",
    "        else : continue\n",
    "    return l\n",
    "\n",
    "rand2(1,2,3,4,5,6,7,8,9)"
   ]
  },
  {
   "cell_type": "code",
   "execution_count": 64,
   "id": "d858c3e3-2bf7-4596-9192-c2c0c52a0c6c",
   "metadata": {},
   "outputs": [
    {
     "data": {
      "text/plain": [
       "[3, 6, 9]"
      ]
     },
     "execution_count": 64,
     "metadata": {},
     "output_type": "execute_result"
    }
   ],
   "source": [
    "#rewriting default argument\n",
    "rand2(1,2,3,4,5,6,7,8,9,a = 3)"
   ]
  },
  {
   "cell_type": "code",
   "execution_count": 67,
   "id": "60da4e6f-031b-428f-a6c2-2f690359129d",
   "metadata": {},
   "outputs": [
    {
     "data": {
      "text/plain": [
       "{'a': 'Gopal', 'b': 'Animesh', 'c': [1, 2, 3, 4, 5]}"
      ]
     },
     "execution_count": 67,
     "metadata": {},
     "output_type": "execute_result"
    }
   ],
   "source": [
    "## for random number of input we use '**' in argument to store them in a dictionary\n",
    "def rand3(**a):\n",
    "    return a\n",
    "rand3(a = 'Gopal', b = \"Animesh\",c = [1,2,3,4,5])\n",
    "    "
   ]
  },
  {
   "cell_type": "code",
   "execution_count": null,
   "id": "87aa47a5-f69f-4408-aeb0-954a30f82b07",
   "metadata": {},
   "outputs": [],
   "source": []
  }
 ],
 "metadata": {
  "kernelspec": {
   "display_name": "Python 3 (ipykernel)",
   "language": "python",
   "name": "python3"
  },
  "language_info": {
   "codemirror_mode": {
    "name": "ipython",
    "version": 3
   },
   "file_extension": ".py",
   "mimetype": "text/x-python",
   "name": "python",
   "nbconvert_exporter": "python",
   "pygments_lexer": "ipython3",
   "version": "3.10.8"
  }
 },
 "nbformat": 4,
 "nbformat_minor": 5
}
