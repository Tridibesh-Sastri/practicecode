{
 "cells": [
  {
   "cell_type": "code",
   "execution_count": 1,
   "id": "d952e04a-48eb-466d-9a09-d2d7d23cc9b2",
   "metadata": {},
   "outputs": [],
   "source": [
    "l = [1,3,'Tridibesh',True,5j,(1+4j),4.55]"
   ]
  },
  {
   "cell_type": "code",
   "execution_count": 2,
   "id": "3ed95e21-ac04-4c67-aed9-72cd66b54046",
   "metadata": {},
   "outputs": [
    {
     "data": {
      "text/plain": [
       "[1, 3, 'Tridibesh', True, 5j, (1+4j), 4.55]"
      ]
     },
     "execution_count": 2,
     "metadata": {},
     "output_type": "execute_result"
    }
   ],
   "source": [
    "l"
   ]
  },
  {
   "cell_type": "code",
   "execution_count": 3,
   "id": "1c6fce9b-d3fd-4fca-b8bf-f47a4df7d368",
   "metadata": {},
   "outputs": [
    {
     "data": {
      "text/plain": [
       "5j"
      ]
     },
     "execution_count": 3,
     "metadata": {},
     "output_type": "execute_result"
    }
   ],
   "source": [
    "l[4]"
   ]
  },
  {
   "cell_type": "code",
   "execution_count": 4,
   "id": "ec7c6356-3d31-40ad-b1dc-a1284f47bf96",
   "metadata": {},
   "outputs": [
    {
     "data": {
      "text/plain": [
       "5.0"
      ]
     },
     "execution_count": 4,
     "metadata": {},
     "output_type": "execute_result"
    }
   ],
   "source": [
    "l[4].imag"
   ]
  },
  {
   "cell_type": "code",
   "execution_count": 5,
   "id": "66aa28f9-3edd-4d16-8ea4-232927fe6c36",
   "metadata": {},
   "outputs": [],
   "source": [
    "l.append('Sastri')"
   ]
  },
  {
   "cell_type": "code",
   "execution_count": 6,
   "id": "894e428c-37ac-4d29-acc5-6d2f06b80a69",
   "metadata": {},
   "outputs": [
    {
     "data": {
      "text/plain": [
       "[1, 3, 'Tridibesh', True, 5j, (1+4j), 4.55, 'Sastri']"
      ]
     },
     "execution_count": 6,
     "metadata": {},
     "output_type": "execute_result"
    }
   ],
   "source": [
    "l"
   ]
  },
  {
   "cell_type": "code",
   "execution_count": 10,
   "id": "291ab4a1-b6fb-4337-bde0-6d6948a2728d",
   "metadata": {},
   "outputs": [
    {
     "data": {
      "text/plain": [
       "[1,\n",
       " 3,\n",
       " 'Sastri',\n",
       " 'Sastri',\n",
       " 'Tridibesh',\n",
       " 'Sastri',\n",
       " True,\n",
       " 5j,\n",
       " (1+4j),\n",
       " 4.55,\n",
       " 'Sastri']"
      ]
     },
     "execution_count": 10,
     "metadata": {},
     "output_type": "execute_result"
    }
   ],
   "source": [
    "l.insert(5,'Sastri')\n",
    "l"
   ]
  },
  {
   "cell_type": "code",
   "execution_count": 11,
   "id": "7f2c5d3a-82ae-4d02-aabe-2233e793408f",
   "metadata": {},
   "outputs": [
    {
     "data": {
      "text/plain": [
       "'Sastri'"
      ]
     },
     "execution_count": 11,
     "metadata": {},
     "output_type": "execute_result"
    }
   ],
   "source": [
    "l.pop(2)"
   ]
  },
  {
   "cell_type": "code",
   "execution_count": 12,
   "id": "188bfb0e-bc31-42e1-9850-8c29c8e2bbde",
   "metadata": {},
   "outputs": [
    {
     "data": {
      "text/plain": [
       "[1, 3, 'Sastri', 'Tridibesh', 'Sastri', True, 5j, (1+4j), 4.55, 'Sastri']"
      ]
     },
     "execution_count": 12,
     "metadata": {},
     "output_type": "execute_result"
    }
   ],
   "source": [
    "l"
   ]
  },
  {
   "cell_type": "code",
   "execution_count": 13,
   "id": "83e1da2f-59de-4fc8-89f6-8b7b6adb2722",
   "metadata": {},
   "outputs": [
    {
     "data": {
      "text/plain": [
       "[1, 3, 'Tridibesh', 'Sastri', True, 5j, (1+4j), 4.55]"
      ]
     },
     "execution_count": 13,
     "metadata": {},
     "output_type": "execute_result"
    }
   ],
   "source": [
    "l.pop(2)\n",
    "l.pop(-1)\n",
    "l"
   ]
  },
  {
   "cell_type": "code",
   "execution_count": 2,
   "id": "770bb912-58d0-4051-bdd8-d2a08181b9ed",
   "metadata": {},
   "outputs": [
    {
     "name": "stdout",
     "output_type": "stream",
     "text": [
      "4\n",
      "3\n",
      "6\n",
      "74\n",
      "3\n",
      "2\n",
      "5\n",
      "7\n",
      "89\n"
     ]
    }
   ],
   "source": [
    "l2 = [4,3,6,74,3,2,5,7,89,]\n",
    "for i in l2:\n",
    "    print(i)"
   ]
  },
  {
   "cell_type": "code",
   "execution_count": 3,
   "id": "7dec83c3-4a71-4b0b-a0be-dc7f510afb7a",
   "metadata": {},
   "outputs": [
    {
     "ename": "SyntaxError",
     "evalue": "invalid syntax (3795976445.py, line 1)",
     "output_type": "error",
     "traceback": [
      "\u001b[0;36m  Cell \u001b[0;32mIn[3], line 1\u001b[0;36m\u001b[0m\n\u001b[0;31m    for i= 0 ;i < len(l2); i++:\u001b[0m\n\u001b[0m         ^\u001b[0m\n\u001b[0;31mSyntaxError\u001b[0m\u001b[0;31m:\u001b[0m invalid syntax\n"
     ]
    }
   ],
   "source": []
  },
  {
   "cell_type": "code",
   "execution_count": null,
   "id": "7bc3371e-1fdf-4b3a-b600-7108b8a083a5",
   "metadata": {},
   "outputs": [],
   "source": []
  }
 ],
 "metadata": {
  "kernelspec": {
   "display_name": "Python 3 (ipykernel)",
   "language": "python",
   "name": "python3"
  },
  "language_info": {
   "codemirror_mode": {
    "name": "ipython",
    "version": 3
   },
   "file_extension": ".py",
   "mimetype": "text/x-python",
   "name": "python",
   "nbconvert_exporter": "python",
   "pygments_lexer": "ipython3",
   "version": "3.10.8"
  }
 },
 "nbformat": 4,
 "nbformat_minor": 5
}
