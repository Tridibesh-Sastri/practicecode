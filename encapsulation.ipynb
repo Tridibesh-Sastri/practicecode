{
  "cells": [
    {
      "cell_type": "code",
      "execution_count": 1,
      "metadata": {},
      "outputs": [],
      "source": [
        "class car:\n",
        "    def __inint__(self,wheils,brand,model,speed):\n",
        "        self.whils = wheils\n",
        "        self.brand = brand\n",
        "        self.model = model\n",
        "        self.speed = 0\n",
        "        \n",
        "    def start_car(self,speed):\n",
        "        if speed > 0 and speed < 60 :\n",
        "            self.speed = speed \n",
        "            \n",
        "    def speedUp(self,speed):\n",
        "        if self.speed + speed > 0 and speed + self.speed < 60 :\n",
        "            self.speed = speed + self.speed\n",
        "        else :\n",
        "            False"
      ]
    },
    {
      "cell_type": "code",
      "execution_count": 51,
      "metadata": {},
      "outputs": [],
      "source": [
        "class buy_car:\n",
        "    def __init__(self,woner_name,budget):\n",
        "        self.__woner = woner_name\n",
        "        self.__budget = budget\n",
        "        self.__wonership = False\n",
        "        self.__brand = \"your deposit dosn't match any brand\"\n",
        "        self.__credit_money = 0\n",
        "        \n",
        "        if self.__budget == 5000:\n",
        "            self.__wonership = True\n",
        "            self.__brand = \"Toyota\"\n",
        "        elif self.__budget == 1000:\n",
        "            self.__wonership = True\n",
        "            self.__brand = \"Maruti\"\n",
        "        elif self.__budget == 10000:\n",
        "            self.__wonership = True\n",
        "            self.__brand = \"BMW\"\n",
        "            \n",
        "    def getWoner(self):\n",
        "        print(self.__woner)\n",
        "    def getbrand(self):\n",
        "        print(self.__brand)\n",
        "        \n",
        "    def getWonership(self):\n",
        "        return self.__wonership\n",
        "    \n",
        "    def setbudget(self,budget):\n",
        "        self.__budget = budget\n",
        "        if self.__budget == 5000:\n",
        "            self.__wonership = True\n",
        "            self.__brand = \"Toyota\"\n",
        "        elif self.__budget == 1000:\n",
        "            self.__wonership = True\n",
        "            self.__brand = \"Maruti\"\n",
        "        elif self.__budget == 10000:\n",
        "            self.__wonership = True\n",
        "            self.__brand = \"BMW\"\n",
        "        else : \n",
        "            self.__brand = \"your deposit dosn't match any brand\"\n",
        "            self.__wonership = False\n",
        "    def getbudget(self):\n",
        "        return self.__budget"
      ]
    },
    {
      "cell_type": "code",
      "execution_count": 25,
      "metadata": {},
      "outputs": [],
      "source": [
        "mycar = buy_car(\"Tridibesh Sastri\",10000)"
      ]
    },
    {
      "cell_type": "code",
      "execution_count": 52,
      "metadata": {},
      "outputs": [
        {
          "name": "stdout",
          "output_type": "stream",
          "text": [
            "Tridibesh Sastri\n"
          ]
        }
      ],
      "source": [
        "mycar.getWoner()"
      ]
    },
    {
      "cell_type": "code",
      "execution_count": 53,
      "metadata": {},
      "outputs": [
        {
          "data": {
            "text/plain": [
              "True"
            ]
          },
          "execution_count": 53,
          "metadata": {},
          "output_type": "execute_result"
        }
      ],
      "source": [
        "mycar.getWonership()"
      ]
    },
    {
      "cell_type": "code",
      "execution_count": 54,
      "metadata": {},
      "outputs": [
        {
          "name": "stdout",
          "output_type": "stream",
          "text": [
            "your deposit dosn't match any brand\n"
          ]
        }
      ],
      "source": [
        "mycar.getbrand()"
      ]
    },
    {
      "cell_type": "code",
      "execution_count": 55,
      "metadata": {},
      "outputs": [],
      "source": [
        "mycar.setbudget(10001)\n"
      ]
    },
    {
      "cell_type": "code",
      "execution_count": 56,
      "metadata": {},
      "outputs": [
        {
          "name": "stdout",
          "output_type": "stream",
          "text": [
            "your deposit dosn't match any brand\n"
          ]
        }
      ],
      "source": [
        "mycar.getbrand()"
      ]
    },
    {
      "cell_type": "code",
      "execution_count": 57,
      "metadata": {},
      "outputs": [
        {
          "data": {
            "text/plain": [
              "10001"
            ]
          },
          "execution_count": 57,
          "metadata": {},
          "output_type": "execute_result"
        }
      ],
      "source": [
        "mycar.getbudget()"
      ]
    },
    {
      "cell_type": "code",
      "execution_count": 58,
      "metadata": {},
      "outputs": [
        {
          "data": {
            "text/plain": [
              "True"
            ]
          },
          "execution_count": 58,
          "metadata": {},
          "output_type": "execute_result"
        }
      ],
      "source": [
        "mycar.getWonership()"
      ]
    },
    {
      "cell_type": "code",
      "execution_count": 98,
      "metadata": {},
      "outputs": [],
      "source": [
        "class bank_account:\n",
        "  def __init__(self,name,balance):\n",
        "    self.__accHolder = name\n",
        "    self.__balance = balance\n",
        "\n",
        "\n",
        "  def getBalance(self):\n",
        "    print(self.__balance)\n",
        "  def getAccholder(self):\n",
        "    print(self.__accHolder)\n",
        "  \n",
        "  def withdraw(self,ammount):\n",
        "    if self.__balance > ammount:\n",
        "      self.__balance = self.__balance - ammount\n",
        "      return ammount\n",
        "    else:\n",
        "      print(\"You have not enough money\")\n",
        "      return 0\n",
        "    \n",
        "  def deposite(self,ammount):\n",
        "    if ammount > 0:\n",
        "      self.__balance = self.__balance + ammount\n",
        "    else :\n",
        "      return False\n",
        "    \n"
      ]
    },
    {
      "cell_type": "code",
      "execution_count": 97,
      "metadata": {},
      "outputs": [],
      "source": [
        "my_bankAccount = bank_account(\"Tridibesh Sastri\",0)"
      ]
    },
    {
      "cell_type": "code",
      "execution_count": 101,
      "metadata": {},
      "outputs": [],
      "source": [
        "my_bankAccount.deposite(10000)"
      ]
    },
    {
      "cell_type": "code",
      "execution_count": 102,
      "metadata": {},
      "outputs": [
        {
          "name": "stdout",
          "output_type": "stream",
          "text": [
            "20000\n"
          ]
        }
      ],
      "source": [
        "my_bankAccount.getBalance()"
      ]
    },
    {
      "cell_type": "code",
      "execution_count": 70,
      "metadata": {},
      "outputs": [],
      "source": [
        "car_list = {\"Toyota\":5000,\"Maruti\":1000,\"Bolero\":3999,\"Tata Nexa\":7000,\"bmw\":2000,\"Tesla\":10000}"
      ]
    },
    {
      "cell_type": "code",
      "execution_count": 104,
      "metadata": {},
      "outputs": [],
      "source": [
        "class buy_car_online:\n",
        "    def __init__(self,name,brand,budget):\n",
        "        self.__woner = name\n",
        "        self.__brand = []\n",
        "        self.__budget = budget\n",
        "        self.__credit = 0\n",
        "        self.__wonerhip = False\n",
        "        if car_list[brand] < self.__budget :\n",
        "            self.__brand.append(brand)\n",
        "            self.__credit = self.__budget - car_list[brand] \n",
        "            self.__wonerhip = True\n",
        "        else:\n",
        "            print(\"Your budget doesn't match your required brand\")\n",
        "\n",
        "\n",
        "    def buy_via_credit(self,brand):\n",
        "    \n",
        "        if self.__credit > car_list[brand]:\n",
        "            self.__brand.append(brand)\n",
        "            self.__credit = self.__credit - car_list[brand]\n",
        "            self.__wonerhip = True\n",
        "        else:\n",
        "            print(\"Your credit doesn't match your required brand\")\n",
        "\n",
        "    def getWoner(self):\n",
        "        print(self.__woner)\n",
        "    def getbrand(self):\n",
        "        print(self.__brand)\n",
        "    def getWonership(self):\n",
        "        return self.__wonership \n",
        "    def getCredit(self):\n",
        "        print(self.__credit)\n",
        "    def buyCredit(self,ammount):\n",
        "        self.__credit = self.__credit + ammount\n"
      ]
    },
    {
      "cell_type": "code",
      "execution_count": 105,
      "metadata": {},
      "outputs": [],
      "source": [
        "newCar = buy_car_online(\"Tridibesh Sastri\",\"Maruti\",my_bankAccount.withdraw(2000))"
      ]
    },
    {
      "cell_type": "code",
      "execution_count": 106,
      "metadata": {},
      "outputs": [
        {
          "name": "stdout",
          "output_type": "stream",
          "text": [
            "Tridibesh Sastri\n"
          ]
        }
      ],
      "source": [
        "newCar.getWoner()"
      ]
    },
    {
      "cell_type": "code",
      "execution_count": 107,
      "metadata": {},
      "outputs": [
        {
          "name": "stdout",
          "output_type": "stream",
          "text": [
            "1000\n"
          ]
        }
      ],
      "source": [
        "newCar.getCredit()"
      ]
    },
    {
      "cell_type": "code",
      "execution_count": 108,
      "metadata": {},
      "outputs": [
        {
          "name": "stdout",
          "output_type": "stream",
          "text": [
            "['Maruti']\n"
          ]
        }
      ],
      "source": [
        "newCar.getbrand()"
      ]
    },
    {
      "cell_type": "code",
      "execution_count": 109,
      "metadata": {},
      "outputs": [],
      "source": [
        "newCar.buyCredit(my_bankAccount.withdraw(4500))"
      ]
    },
    {
      "cell_type": "code",
      "execution_count": 110,
      "metadata": {},
      "outputs": [
        {
          "name": "stdout",
          "output_type": "stream",
          "text": [
            "5500\n"
          ]
        }
      ],
      "source": [
        "newCar.getCredit()"
      ]
    },
    {
      "cell_type": "code",
      "execution_count": 111,
      "metadata": {},
      "outputs": [],
      "source": [
        "newCar.buy_via_credit(\"Toyota\")"
      ]
    },
    {
      "cell_type": "code",
      "execution_count": 112,
      "metadata": {},
      "outputs": [
        {
          "name": "stdout",
          "output_type": "stream",
          "text": [
            "['Maruti', 'Toyota']\n"
          ]
        }
      ],
      "source": [
        "newCar.getbrand()"
      ]
    },
    {
      "cell_type": "code",
      "execution_count": 113,
      "metadata": {},
      "outputs": [
        {
          "name": "stdout",
          "output_type": "stream",
          "text": [
            "500\n"
          ]
        }
      ],
      "source": [
        "newCar.getCredit()"
      ]
    },
    {
      "cell_type": "code",
      "execution_count": null,
      "metadata": {},
      "outputs": [],
      "source": []
    }
  ],
  "metadata": {
    "kernelspec": {
      "display_name": "Python 3",
      "language": "python",
      "name": "python3"
    },
    "language_info": {
      "codemirror_mode": {
        "name": "ipython",
        "version": 3
      },
      "file_extension": ".py",
      "mimetype": "text/x-python",
      "name": "python",
      "nbconvert_exporter": "python",
      "pygments_lexer": "ipython3",
      "version": "3.10.5"
    },
    "orig_nbformat": 4
  },
  "nbformat": 4,
  "nbformat_minor": 2
}
